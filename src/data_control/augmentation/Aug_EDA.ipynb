{
 "cells": [
  {
   "cell_type": "code",
   "execution_count": 2,
   "metadata": {},
   "outputs": [
    {
     "name": "stdout",
     "output_type": "stream",
     "text": [
      "Augmented data saved to /data/ephemeral/home/hsk/level2-nlp-datacentric-nlp-01/data/augment_train_SR_RD.csv\n"
     ]
    }
   ],
   "source": [
    "from AugmentorEDA import EasyDataAugmentation\n",
    "import pandas as pd\n",
    "\n",
    "# 증강기 초기화\n",
    "augmentor = EasyDataAugmentation(\n",
    "    methods=['SR', 'RD'],  # 원하는 방법만 선택\n",
    "    morpheme_analyzer=\"Mecab\",\n",
    "    p=0.3,\n",
    "    repetition=1\n",
    ")\n",
    "\n",
    "# CSV 파일 처리\n",
    "input_path = \"/data/ephemeral/home/hsk/level2-nlp-datacentric-nlp-01/data/train.csv\"\n",
    "output_path = \"/data/ephemeral/home/hsk/level2-nlp-datacentric-nlp-01/data/augment_train_SR_RD.csv\" \n",
    "\n",
    "input_data = pd.read_csv(input_path)\n",
    "aug_data = augmentor.augment(input_data, text_column='text')\n",
    "\n",
    "\n",
    "# Save the augmented data to a new CSV file\n",
    "aug_data.to_csv(output_path, index=False)\n",
    "print(f\"Augmented data saved to {output_path}\")"
   ]
  },
  {
   "cell_type": "code",
   "execution_count": null,
   "metadata": {},
   "outputs": [],
   "source": []
  }
 ],
 "metadata": {
  "kernelspec": {
   "display_name": "base",
   "language": "python",
   "name": "python3"
  },
  "language_info": {
   "codemirror_mode": {
    "name": "ipython",
    "version": 3
   },
   "file_extension": ".py",
   "mimetype": "text/x-python",
   "name": "python",
   "nbconvert_exporter": "python",
   "pygments_lexer": "ipython3",
   "version": "3.10.13"
  }
 },
 "nbformat": 4,
 "nbformat_minor": 2
}
