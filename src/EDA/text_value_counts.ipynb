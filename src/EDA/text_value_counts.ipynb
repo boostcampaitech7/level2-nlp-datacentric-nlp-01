{
 "cells": [
  {
   "cell_type": "code",
   "execution_count": null,
   "metadata": {},
   "outputs": [],
   "source": [
    "import pandas as pd\n",
    "from kiwipiepy import Kiwi\n",
    "from collections import Counter\n",
    "\n",
    "# Kiwi 형태소 분석기 생성\n",
    "kiwi = Kiwi()\n",
    "\n",
    "# CSV 파일 경로 설정\n",
    "input_file = '/data/ephemeral/home/hsk/level2-nlp-datacentric-nlp-01/data.csv'\n",
    "output_file = 'value_counts.csv'\n",
    "\n",
    "# 데이터 불러오기\n",
    "df = pd.read_csv(input_file)\n",
    "\n",
    "# 형태소 분석 후 명사 추출 함수\n",
    "def extract_nouns(text):\n",
    "    nouns = []\n",
    "    result = kiwi.analyze(text)\n",
    "    for token, pos, _, _ in result[0][0]:\n",
    "        if len(token) != 1 and (pos.startswith('N') or pos.startswith('SL')):\n",
    "            nouns.append(token)\n",
    "    return nouns\n",
    "\n",
    "# 각 target 별로 상위 50개 명사 추출\n",
    "top_nouns = {}\n",
    "for target_value in range(7):\n",
    "    # 특정 target에 속하는 텍스트 모음\n",
    "    texts = df[df['target'] == target_value]['text']\n",
    "    nouns = []\n",
    "\n",
    "    # 명사 추출 및 빈도수 계산\n",
    "    for text in texts:\n",
    "        nouns.extend(extract_nouns(text))\n",
    "    \n",
    "    # 상위 50개의 명사 추출\n",
    "    noun_counts = Counter(nouns)\n",
    "    top_nouns[f'target_{target_value}'] = [word for word, _ in noun_counts.most_common(50)]\n",
    "\n",
    "# 데이터프레임으로 변환\n",
    "value_counts_df = pd.DataFrame(top_nouns)\n",
    "\n",
    "# CSV 파일로 저장\n",
    "value_counts_df.to_csv(output_file, index=False, encoding='utf-8-sig')\n",
    "print(f\"{output_file}에 저장 완료\")\n"
   ]
  }
 ],
 "metadata": {
  "kernelspec": {
   "display_name": "base",
   "language": "python",
   "name": "python3"
  },
  "language_info": {
   "name": "python",
   "version": "3.10.13"
  }
 },
 "nbformat": 4,
 "nbformat_minor": 2
}
